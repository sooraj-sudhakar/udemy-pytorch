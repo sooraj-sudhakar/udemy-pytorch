{
 "cells": [
  {
   "cell_type": "markdown",
   "metadata": {},
   "source": [
    "# Linear regression"
   ]
  },
  {
   "cell_type": "markdown",
   "metadata": {},
   "source": [
    "This is an explanation on how to use pytorch for linear regression using the pytorch neural network module."
   ]
  },
  {
   "cell_type": "code",
   "execution_count": 1,
   "metadata": {},
   "outputs": [],
   "source": [
    "import numpy as np\n",
    "import torch as tf\n",
    "import torch.nn as nn\n",
    "import matplotlib.pyplot as plt"
   ]
  },
  {
   "cell_type": "markdown",
   "metadata": {},
   "source": [
    "#### Dataset creation\n",
    "***"
   ]
  },
  {
   "cell_type": "markdown",
   "metadata": {},
   "source": [
    "The equation that we are going to use to do the liner regression will be :\n",
    "\\begin{align*}\n",
    "y = 2x + 1\n",
    "\\end{align*}"
   ]
  },
  {
   "cell_type": "markdown",
   "metadata": {},
   "source": [
    "Generating the independant variable x and dependant variable y. Then converting the *list* --> *numpy array* --> *torch tensors.*"
   ]
  },
  {
   "cell_type": "code",
   "execution_count": 2,
   "metadata": {},
   "outputs": [
    {
     "name": "stdout",
     "output_type": "stream",
     "text": [
      "tensor([[ 0.],\n",
      "        [ 1.],\n",
      "        [ 2.],\n",
      "        [ 3.],\n",
      "        [ 4.],\n",
      "        [ 5.],\n",
      "        [ 6.],\n",
      "        [ 7.],\n",
      "        [ 8.],\n",
      "        [ 9.],\n",
      "        [10.]])\n"
     ]
    }
   ],
   "source": [
    "x = [i for i in range(11)]\n",
    "x = np.array(x, dtype=np.float32) #float data type required for gradients\n",
    "x = tf.from_numpy(x)\n",
    "x_train = x.view(-1,1) # To take the transpose\n",
    "print(x_train)"
   ]
  },
  {
   "cell_type": "code",
   "execution_count": 3,
   "metadata": {},
   "outputs": [
    {
     "name": "stdout",
     "output_type": "stream",
     "text": [
      "tensor([[ 1.],\n",
      "        [ 3.],\n",
      "        [ 5.],\n",
      "        [ 7.],\n",
      "        [ 9.],\n",
      "        [11.],\n",
      "        [13.],\n",
      "        [15.],\n",
      "        [17.],\n",
      "        [19.],\n",
      "        [21.]])\n"
     ]
    }
   ],
   "source": [
    "y = [2*i+1 for i in range(11)]\n",
    "y = np.array(y, dtype=np.float32)\n",
    "y = tf.from_numpy(y)\n",
    "y_train = y.view(-1,1)\n",
    "print(y_train)"
   ]
  },
  {
   "cell_type": "markdown",
   "metadata": {},
   "source": [
    "#### Model building\n",
    "***"
   ]
  },
  {
   "cell_type": "markdown",
   "metadata": {},
   "source": [
    "We are going to define a class named _LinearRegression_ and then code the forward pass into it. Normally while creating a class we define __init__ for initilisation purposes(more details [here](https://www.youtube.com/watch?v=WIP3-woodlU)). In the case of multiple inheritance, we define _super()_ function to make sure that the __init__ of the parent class would be called only once(more details [here](https://www.youtube.com/watch?v=zS0HyfN7Pm4)).\n",
    "\n",
    "The input arguments to the pytorch linear module is in form _Linear(input_dim, output_dim)_ , which means input_dim total size of the input features and output_dim the number of output classes. So if we have a 28X28 image passing as input with 10 class, then input_dim = 784 and output_dim = 10(more details [here](https://mc.ai/pytorch-layer-dimensions-what-sizes-should-they-be-and-why/) and [here](https://towardsdatascience.com/pytorch-layer-dimensions-what-sizes-should-they-be-and-why-4265a41e01fd))."
   ]
  },
  {
   "cell_type": "markdown",
   "metadata": {},
   "source": [
    "We are going to instantiate the model, since ours is simple straight line equation the x value will be a single value and output y will also be single value. Hence the input_dim and output_dim are both 1. This linear regression will model the data in the form of\n",
    "\n",
    "$ y = Ax + c $\n",
    "\n",
    "The A being the weight matrix that transforms the input x with a bias c to produce the output(more details [here](https://www.youtube.com/watch?v=rcc86nXKwkw)).\n"
   ]
  },
  {
   "cell_type": "code",
   "execution_count": 4,
   "metadata": {},
   "outputs": [],
   "source": [
    "input_dim = 1\n",
    "output_dim = 1\n",
    "\n",
    "model = nn.Linear(input_dim, output_dim)"
   ]
  },
  {
   "cell_type": "markdown",
   "metadata": {},
   "source": [
    "Creating the loss class. Loss is the difference betweent the model predicted output and original output. The loss is to be calculated and then optimized in such a way that after each training epoch the loss should reduce. Here Mean Square Error is taken for loss calculation.\n",
    "\n",
    "$MSE = \\frac{1}{n}\\sum_{i=1}^{n}(\\hat{y}-y)$\n",
    "\n",
    "$\\hat{y} - predicted\\\\$\n",
    "$y - true value$"
   ]
  },
  {
   "cell_type": "code",
   "execution_count": 5,
   "metadata": {},
   "outputs": [],
   "source": [
    "criterion = nn.MSELoss()"
   ]
  },
  {
   "cell_type": "markdown",
   "metadata": {},
   "source": [
    "Next we define the optimizer that can help optimise the loss function such that the loss value is less, meaning the predicted value almost equal to the expected original value.\n",
    "\n",
    "$\\Theta = \\Theta-\\eta \\Delta \\underset{\\Theta}{}$"
   ]
  },
  {
   "cell_type": "code",
   "execution_count": 6,
   "metadata": {},
   "outputs": [],
   "source": [
    "learning_rate = 0.01\n",
    "optimizer = tf.optim.SGD(model.parameters(),lr=learning_rate)"
   ]
  },
  {
   "cell_type": "code",
   "execution_count": 9,
   "metadata": {},
   "outputs": [
    {
     "name": "stdout",
     "output_type": "stream",
     "text": [
      "tensor(0.0002, grad_fn=<MseLossBackward>)\n",
      "<class 'torch.Tensor'>\n",
      "torch.Size([])\n",
      "epoch 1, loss 0.00015833428187761456\n"
     ]
    }
   ],
   "source": [
    "epochs = 100\n",
    "\n",
    "for epoch in range(1,epochs+1):\n",
    "    optimizer.zero_grad()  # to clear all values to prevent accumulation from previous epochs\n",
    "    output = model(x_train) # forward passing\n",
    "    loss = criterion(output, y_train) # loss calculation wrt to the original output\n",
    "    loss.backward()\n",
    "    optimizer.step()\n",
    "    print(\"epoch {}, loss {}\".format(epoch,loss))"
   ]
  },
  {
   "cell_type": "markdown",
   "metadata": {},
   "source": [
    "#### Data comparision\n",
    "***"
   ]
  },
  {
   "cell_type": "code",
   "execution_count": 11,
   "metadata": {},
   "outputs": [
    {
     "name": "stdout",
     "output_type": "stream",
     "text": [
      "tensor([[ 1.0234],\n",
      "        [ 3.0200],\n",
      "        [ 5.0167],\n",
      "        [ 7.0133],\n",
      "        [ 9.0099],\n",
      "        [11.0066],\n",
      "        [13.0032],\n",
      "        [14.9998],\n",
      "        [16.9964],\n",
      "        [18.9931],\n",
      "        [20.9897]], grad_fn=<AddmmBackward>)\n"
     ]
    }
   ],
   "source": [
    "predicted = model(x_train) # y = 2x+1\n",
    "print(predicted)"
   ]
  },
  {
   "cell_type": "code",
   "execution_count": 12,
   "metadata": {},
   "outputs": [
    {
     "name": "stdout",
     "output_type": "stream",
     "text": [
      "tensor([[ 1.],\n",
      "        [ 3.],\n",
      "        [ 5.],\n",
      "        [ 7.],\n",
      "        [ 9.],\n",
      "        [11.],\n",
      "        [13.],\n",
      "        [15.],\n",
      "        [17.],\n",
      "        [19.],\n",
      "        [21.]])\n"
     ]
    }
   ],
   "source": [
    "print(y_train) # actual output"
   ]
  },
  {
   "cell_type": "markdown",
   "metadata": {},
   "source": [
    "#### Graph plotting\n",
    "***"
   ]
  },
  {
   "cell_type": "code",
   "execution_count": null,
   "metadata": {},
   "outputs": [],
   "source": [
    "plt.cfg() # to clear the figure\n",
    "\n",
    "# plotting true data\n",
    "plt.plot(x_train,y_train,)"
   ]
  }
 ],
 "metadata": {
  "kernelspec": {
   "display_name": "Python 3",
   "language": "python",
   "name": "python3"
  },
  "language_info": {
   "codemirror_mode": {
    "name": "ipython",
    "version": 3
   },
   "file_extension": ".py",
   "mimetype": "text/x-python",
   "name": "python",
   "nbconvert_exporter": "python",
   "pygments_lexer": "ipython3",
   "version": "3.6.10"
  }
 },
 "nbformat": 4,
 "nbformat_minor": 4
}
