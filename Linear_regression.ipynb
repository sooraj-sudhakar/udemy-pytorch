{
 "cells": [
  {
   "cell_type": "markdown",
   "metadata": {},
   "source": [
    "# Linear regression"
   ]
  },
  {
   "cell_type": "markdown",
   "metadata": {},
   "source": [
    "This is an explanation on how to use pytorch for linear regression using the pytorch neural network module."
   ]
  },
  {
   "cell_type": "code",
   "execution_count": 1,
   "metadata": {},
   "outputs": [],
   "source": [
    "import numpy as np\n",
    "import torch as tf\n",
    "import torch.nn as nn\n",
    "import matplotlib.pyplot as plt"
   ]
  },
  {
   "cell_type": "markdown",
   "metadata": {},
   "source": [
    "#### Dataset creation\n",
    "***"
   ]
  },
  {
   "cell_type": "markdown",
   "metadata": {},
   "source": [
    "The equation that we are going to use to do the liner regression will be :$y = 2x + 1$"
   ]
  },
  {
   "cell_type": "markdown",
   "metadata": {},
   "source": [
    "Generating the independant variable x and dependant variable y. Then converting the *list* --> *numpy array* --> *torch tensors.*"
   ]
  },
  {
   "cell_type": "code",
   "execution_count": 2,
   "metadata": {},
   "outputs": [
    {
     "name": "stdout",
     "output_type": "stream",
     "text": [
      "tensor([[ 0.],\n",
      "        [ 1.],\n",
      "        [ 2.],\n",
      "        [ 3.],\n",
      "        [ 4.],\n",
      "        [ 5.],\n",
      "        [ 6.],\n",
      "        [ 7.],\n",
      "        [ 8.],\n",
      "        [ 9.],\n",
      "        [10.]])\n"
     ]
    }
   ],
   "source": [
    "x = [i for i in range(11)]\n",
    "x = np.array(x, dtype=np.float32) #float data type required for gradients\n",
    "x = tf.from_numpy(x)\n",
    "x_train = x.view(-1,1) # To take the transpose\n",
    "print(x_train)"
   ]
  },
  {
   "cell_type": "code",
   "execution_count": 3,
   "metadata": {},
   "outputs": [
    {
     "name": "stdout",
     "output_type": "stream",
     "text": [
      "tensor([[ 1.],\n",
      "        [ 3.],\n",
      "        [ 5.],\n",
      "        [ 7.],\n",
      "        [ 9.],\n",
      "        [11.],\n",
      "        [13.],\n",
      "        [15.],\n",
      "        [17.],\n",
      "        [19.],\n",
      "        [21.]])\n"
     ]
    }
   ],
   "source": [
    "y = [2*i+1 for i in range(11)]\n",
    "y = np.array(y, dtype=np.float32)\n",
    "y = tf.from_numpy(y)\n",
    "y_train = y.view(-1,1)\n",
    "print(y_train)"
   ]
  },
  {
   "cell_type": "markdown",
   "metadata": {},
   "source": [
    "#### Model building\n",
    "***"
   ]
  },
  {
   "cell_type": "markdown",
   "metadata": {},
   "source": [
    "We are going to define a class named _LinearRegression_ and then code the forward pass into it. Normally while creating a class we define __init__ for initilisation purposes(more details [here](https://www.youtube.com/watch?v=WIP3-woodlU)). In the case of multiple inheritance, we define _super()_ function to make sure that the __init__ of the parent class would be called only once(more details [here](https://www.youtube.com/watch?v=zS0HyfN7Pm4)).\n",
    "\n",
    "The input arguments to the pytorch linear module is in form _Linear(input_dim, output_dim)_ , which means input_dim total size of the input features and output_dim the number of output classes. So if we have a 28X28 image passing as input with 10 class, then input_dim = 784 and output_dim = 10(more details [here](https://mc.ai/pytorch-layer-dimensions-what-sizes-should-they-be-and-why/) and [here](https://towardsdatascience.com/pytorch-layer-dimensions-what-sizes-should-they-be-and-why-4265a41e01fd))."
   ]
  },
  {
   "cell_type": "markdown",
   "metadata": {},
   "source": [
    "We are going to instantiate the model, since ours is simple straight line equation the x value will be a single value and output y will also be single value. Hence the input_dim and output_dim are both 1. This linear regression will model the data in the form of\n",
    "\n",
    "$ y = Ax + c $\n",
    "\n",
    "The A being the weight matrix that transforms the input x with a bias c to produce the output(more details [here](https://www.youtube.com/watch?v=rcc86nXKwkw)).\n"
   ]
  },
  {
   "cell_type": "code",
   "execution_count": 4,
   "metadata": {},
   "outputs": [],
   "source": [
    "input_dim = 1\n",
    "output_dim = 1\n",
    "\n",
    "model = nn.Linear(input_dim, output_dim)"
   ]
  },
  {
   "cell_type": "markdown",
   "metadata": {},
   "source": [
    "Creating the loss class. Loss is the difference betweent the model predicted output and original output. The loss is to be calculated and then optimized in such a way that after each training epoch the loss should reduce. Here Mean Square Error is taken for loss calculation.\n",
    "\n",
    "$MSE = \\frac{1}{n}\\sum_{i=1}^{n}(\\hat{y}-y)$\n",
    "\n",
    "$\\hat{y} - predicted\\\\$\n",
    "$y - true value$"
   ]
  },
  {
   "cell_type": "code",
   "execution_count": 5,
   "metadata": {},
   "outputs": [],
   "source": [
    "criterion = nn.MSELoss()"
   ]
  },
  {
   "cell_type": "markdown",
   "metadata": {},
   "source": [
    "Next we define the optimizer that can help optimise the loss function such that the loss value is less, meaning the predicted value almost equal to the expected original value.\n",
    "\n",
    "$\\Theta = \\Theta-\\eta \\Delta \\underset{\\Theta}{}$"
   ]
  },
  {
   "cell_type": "code",
   "execution_count": 6,
   "metadata": {},
   "outputs": [],
   "source": [
    "learning_rate = 0.01\n",
    "optimizer = tf.optim.SGD(model.parameters(),lr=learning_rate)"
   ]
  },
  {
   "cell_type": "code",
   "execution_count": 7,
   "metadata": {},
   "outputs": [
    {
     "name": "stdout",
     "output_type": "stream",
     "text": [
      "epoch 1, loss 115.20117950439453\n",
      "epoch 2, loss 9.804228782653809\n",
      "epoch 3, loss 1.2027825117111206\n",
      "epoch 4, loss 0.49668824672698975\n",
      "epoch 5, loss 0.43464395403862\n",
      "epoch 6, loss 0.42518168687820435\n",
      "epoch 7, loss 0.4200579822063446\n",
      "epoch 8, loss 0.4153364896774292\n",
      "epoch 9, loss 0.4106961488723755\n",
      "epoch 10, loss 0.4061095118522644\n",
      "epoch 11, loss 0.4015747010707855\n",
      "epoch 12, loss 0.3970903158187866\n",
      "epoch 13, loss 0.3926560580730438\n",
      "epoch 14, loss 0.38827160000801086\n",
      "epoch 15, loss 0.3839355707168579\n",
      "epoch 16, loss 0.3796485662460327\n",
      "epoch 17, loss 0.3754090368747711\n",
      "epoch 18, loss 0.3712168037891388\n",
      "epoch 19, loss 0.36707165837287903\n",
      "epoch 20, loss 0.36297252774238586\n",
      "epoch 21, loss 0.358919233083725\n",
      "epoch 22, loss 0.35491111874580383\n",
      "epoch 23, loss 0.3509478271007538\n",
      "epoch 24, loss 0.34702908992767334\n",
      "epoch 25, loss 0.34315383434295654\n",
      "epoch 26, loss 0.33932146430015564\n",
      "epoch 27, loss 0.33553239703178406\n",
      "epoch 28, loss 0.331785649061203\n",
      "epoch 29, loss 0.32808053493499756\n",
      "epoch 30, loss 0.3244170546531677\n",
      "epoch 31, loss 0.32079455256462097\n",
      "epoch 32, loss 0.31721213459968567\n",
      "epoch 33, loss 0.31366991996765137\n",
      "epoch 34, loss 0.3101670444011688\n",
      "epoch 35, loss 0.30670368671417236\n",
      "epoch 36, loss 0.3032786548137665\n",
      "epoch 37, loss 0.2998919188976288\n",
      "epoch 38, loss 0.29654309153556824\n",
      "epoch 39, loss 0.29323187470436096\n",
      "epoch 40, loss 0.2899571359157562\n",
      "epoch 41, loss 0.28671932220458984\n",
      "epoch 42, loss 0.2835175395011902\n",
      "epoch 43, loss 0.28035154938697815\n",
      "epoch 44, loss 0.27722084522247314\n",
      "epoch 45, loss 0.27412518858909607\n",
      "epoch 46, loss 0.2710641622543335\n",
      "epoch 47, loss 0.2680371105670929\n",
      "epoch 48, loss 0.2650441825389862\n",
      "epoch 49, loss 0.26208439469337463\n",
      "epoch 50, loss 0.25915762782096863\n",
      "epoch 51, loss 0.256263792514801\n",
      "epoch 52, loss 0.2534020245075226\n",
      "epoch 53, loss 0.2505723237991333\n",
      "epoch 54, loss 0.24777421355247498\n",
      "epoch 55, loss 0.24500752985477448\n",
      "epoch 56, loss 0.24227148294448853\n",
      "epoch 57, loss 0.23956626653671265\n",
      "epoch 58, loss 0.236890971660614\n",
      "epoch 59, loss 0.23424547910690308\n",
      "epoch 60, loss 0.23162975907325745\n",
      "epoch 61, loss 0.22904323041439056\n",
      "epoch 62, loss 0.2264854907989502\n",
      "epoch 63, loss 0.22395643591880798\n",
      "epoch 64, loss 0.22145527601242065\n",
      "epoch 65, loss 0.21898260712623596\n",
      "epoch 66, loss 0.2165369987487793\n",
      "epoch 67, loss 0.21411915123462677\n",
      "epoch 68, loss 0.21172809600830078\n",
      "epoch 69, loss 0.20936383306980133\n",
      "epoch 70, loss 0.20702575147151947\n",
      "epoch 71, loss 0.20471397042274475\n",
      "epoch 72, loss 0.2024279236793518\n",
      "epoch 73, loss 0.2001674622297287\n",
      "epoch 74, loss 0.19793222844600677\n",
      "epoch 75, loss 0.19572196900844574\n",
      "epoch 76, loss 0.19353650510311127\n",
      "epoch 77, loss 0.1913750320672989\n",
      "epoch 78, loss 0.18923816084861755\n",
      "epoch 79, loss 0.18712501227855682\n",
      "epoch 80, loss 0.1850353628396988\n",
      "epoch 81, loss 0.18296900391578674\n",
      "epoch 82, loss 0.18092574179172516\n",
      "epoch 83, loss 0.17890562117099762\n",
      "epoch 84, loss 0.17690767347812653\n",
      "epoch 85, loss 0.17493237555027008\n",
      "epoch 86, loss 0.1729787439107895\n",
      "epoch 87, loss 0.17104710638523102\n",
      "epoch 88, loss 0.16913701593875885\n",
      "epoch 89, loss 0.16724838316440582\n",
      "epoch 90, loss 0.1653808206319809\n",
      "epoch 91, loss 0.16353394091129303\n",
      "epoch 92, loss 0.16170798242092133\n",
      "epoch 93, loss 0.15990212559700012\n",
      "epoch 94, loss 0.15811647474765778\n",
      "epoch 95, loss 0.15635065734386444\n",
      "epoch 96, loss 0.1546049565076828\n",
      "epoch 97, loss 0.15287832915782928\n",
      "epoch 98, loss 0.15117119252681732\n",
      "epoch 99, loss 0.14948315918445587\n",
      "epoch 100, loss 0.14781378209590912\n"
     ]
    }
   ],
   "source": [
    "epochs = 100\n",
    "\n",
    "for epoch in range(1,epochs+1):\n",
    "    optimizer.zero_grad()  # to clear all values to prevent accumulation from previous epochs\n",
    "    output = model(x_train) # forward passing\n",
    "    loss = criterion(output, y_train) # loss calculation wrt to the original output\n",
    "    loss.backward()\n",
    "    optimizer.step()\n",
    "    print(\"epoch {}, loss {}\".format(epoch,loss))"
   ]
  },
  {
   "cell_type": "markdown",
   "metadata": {},
   "source": [
    "#### Data comparision\n",
    "***"
   ]
  },
  {
   "cell_type": "code",
   "execution_count": 8,
   "metadata": {},
   "outputs": [
    {
     "name": "stdout",
     "output_type": "stream",
     "text": [
      "tensor([[ 0.2848],\n",
      "        [ 2.3878],\n",
      "        [ 4.4908],\n",
      "        [ 6.5938],\n",
      "        [ 8.6968],\n",
      "        [10.7998],\n",
      "        [12.9028],\n",
      "        [15.0058],\n",
      "        [17.1088],\n",
      "        [19.2118],\n",
      "        [21.3147]], grad_fn=<AddmmBackward>)\n"
     ]
    }
   ],
   "source": [
    "predicted = model(x_train) # y = 2x+1\n",
    "print(predicted)"
   ]
  },
  {
   "cell_type": "code",
   "execution_count": 9,
   "metadata": {},
   "outputs": [
    {
     "name": "stdout",
     "output_type": "stream",
     "text": [
      "tensor([[ 1.],\n",
      "        [ 3.],\n",
      "        [ 5.],\n",
      "        [ 7.],\n",
      "        [ 9.],\n",
      "        [11.],\n",
      "        [13.],\n",
      "        [15.],\n",
      "        [17.],\n",
      "        [19.],\n",
      "        [21.]])\n"
     ]
    }
   ],
   "source": [
    "print(y_train) # actual output"
   ]
  },
  {
   "cell_type": "markdown",
   "metadata": {},
   "source": [
    "#### Graph plotting\n",
    "***"
   ]
  },
  {
   "cell_type": "code",
   "execution_count": 10,
   "metadata": {},
   "outputs": [
    {
     "data": {
      "image/png": "[encoded data removed]",
      "text/plain": [
       "<Figure size 432x288 with 1 Axes>"
      ]
     },
     "metadata": {
      "needs_background": "light"
     },
     "output_type": "display_data"
    }
   ],
   "source": [
    "plt.clf() # to clear the figure\n",
    "\n",
    "predicted = predicted.detach().numpy() # To remove the gradient (https://github.com/dask/distributed/pull/2586)\n",
    "\n",
    "plt.plot(x_train,y_train,'go',label='True data',alpha=0.5)  #go mean green dots\n",
    "plt.plot(x_train,predicted, '--',label='Predicted data',alpha=0.5)\n",
    "plt.legend() # https://www.geeksforgeeks.org/matplotlib-pyplot-legend-in-python/#:~:text=The%20attribute%20Loc%20in%20legend,corner%20of%20the%20axes%2Ffigure.\n",
    "plt.show() # https://stackoverflow.com/questions/23141452/difference-between-plt-draw-and-plt-show-in-matplotlib"
   ]
  }
 ],
 "metadata": {
  "kernelspec": {
   "display_name": "Python 3",
   "language": "python",
   "name": "python3"
  },
  "language_info": {
   "codemirror_mode": {
    "name": "ipython",
    "version": 3
   },
   "file_extension": ".py",
   "mimetype": "text/x-python",
   "name": "python",
   "nbconvert_exporter": "python",
   "pygments_lexer": "ipython3",
   "version": "3.6.10"
  }
 },
 "nbformat": 4,
 "nbformat_minor": 4
}
